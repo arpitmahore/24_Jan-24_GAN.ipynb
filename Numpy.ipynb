{
  "nbformat": 4,
  "nbformat_minor": 0,
  "metadata": {
    "colab": {
      "provenance": []
    },
    "kernelspec": {
      "name": "python3",
      "display_name": "Python 3"
    },
    "language_info": {
      "name": "python"
    }
  },
  "cells": [
    {
      "cell_type": "markdown",
      "source": [
        "1. What is a Python library? Why do we use Python libraries?"
      ],
      "metadata": {
        "id": "fKE9ECpE9tos"
      }
    },
    {
      "cell_type": "markdown",
      "source": [
        "Ans : A python library is collection of functions, classes and variables that  \n",
        "      can be use to perform specific task. In python library is collection of releted modules that cantain reusable code for various purposes and features.\n",
        "          we use python librarise to make programming simpler and more convenint as we don't have to write the same code again and again for different programs. python libraries also provide access to system functionality.some examples of python libraries are NumPy, Pandas, Matplotlib, TraansorFlow,etc."
      ],
      "metadata": {
        "id": "tZgigoSB-LeP"
      }
    },
    {
      "cell_type": "markdown",
      "source": [
        "2. What is the difference between Numpy array and List?"
      ],
      "metadata": {
        "id": "IkMJnaR_Ifii"
      }
    },
    {
      "cell_type": "markdown",
      "source": [
        "Ans : A Numpy array is collection of homogeneous data, which means all the elements have the same data type.\n",
        "      A List is collection of hetrogeneous data, which means the elements have differrent data types is single List.\n",
        "      A Numpy array ha sfixed size and data types, which makes it more memory-efficient and fassster for numerical operations than a List.\n",
        "     A List can change its size and data types dynamically , which gives it more flexibility but also more overhead.\n",
        "\n",
        "\n",
        "\n"
      ],
      "metadata": {
        "id": "V6SPhI3PJWtD"
      }
    },
    {
      "cell_type": "markdown",
      "source": [
        "3. Find the shape, size and dimension of the following array?\n",
        "\n",
        "[[1, 2, 3, 4]\n",
        "\n",
        "[5, 6, 7, 8],\n",
        "\n",
        "[9, 10, 11, 12]]"
      ],
      "metadata": {
        "id": "mf-040gTFZ1i"
      }
    },
    {
      "cell_type": "code",
      "source": [
        "import numpy as np\n",
        "arr = np.array([[1,2,3,4],[5,6,7,8],[9,10,11,12]])\n",
        "arr\n",
        "shape = np.shape(arr)\n",
        "size = np.size(arr)\n",
        "dimen = arr.ndim\n",
        "print(\"Shape of array is : \",shape)\n",
        "print(\"Size of array is : \",size)\n",
        "print(\"Dimension of array is : \",dimen)"
      ],
      "metadata": {
        "colab": {
          "base_uri": "https://localhost:8080/"
        },
        "id": "h4s4xCkbFcD7",
        "outputId": "14957c5a-915d-4b42-f2af-dfcb2e4bfa40"
      },
      "execution_count": null,
      "outputs": [
        {
          "output_type": "stream",
          "name": "stdout",
          "text": [
            "Shape of array is :  (3, 4)\n",
            "Size of array is :  12\n",
            "Dimension of array is :  2\n"
          ]
        }
      ]
    },
    {
      "cell_type": "markdown",
      "source": [
        "4. Write python code to access the first row of the following array?\n",
        "\n",
        "[[1, 2, 3, 4]\n",
        "\n",
        "[5, 6, 7, 8],\n",
        "\n",
        "[9, 10, 11, 12]]"
      ],
      "metadata": {
        "id": "qsSEpX1JN9Jf"
      }
    },
    {
      "cell_type": "code",
      "source": [
        "arr = np.array([[1,2,3,4],[5,6,7,8],[9,10,11,12]])\n",
        "arr[0]"
      ],
      "metadata": {
        "colab": {
          "base_uri": "https://localhost:8080/"
        },
        "id": "AcAJzs_9OEiV",
        "outputId": "fc740c5e-dec4-4db6-e981-cc756280c0e7"
      },
      "execution_count": null,
      "outputs": [
        {
          "output_type": "execute_result",
          "data": {
            "text/plain": [
              "array([1, 2, 3, 4])"
            ]
          },
          "metadata": {},
          "execution_count": 10
        }
      ]
    },
    {
      "cell_type": "markdown",
      "source": [
        "5. How do you access the element at the third row and fourth column from the given numpy array?\n",
        "\n",
        "[[1, 2, 3, 4]\n",
        "\n",
        "[5, 6, 7, 8],\n",
        "\n",
        "[9, 10, 11, 12]]"
      ],
      "metadata": {
        "id": "oLd-qkU1OYNZ"
      }
    },
    {
      "cell_type": "code",
      "source": [],
      "metadata": {
        "id": "cW4p0RVBRrxD"
      },
      "execution_count": null,
      "outputs": []
    },
    {
      "cell_type": "code",
      "source": [
        "arr = np.array([[1,2,3,4],[5,6,7,8],[9,10,11,12]])\n",
        "arr[2,3]"
      ],
      "metadata": {
        "colab": {
          "base_uri": "https://localhost:8080/"
        },
        "id": "vlJwVAO8OdAF",
        "outputId": "28af1133-10fe-4e8c-c501-781e1161b513"
      },
      "execution_count": null,
      "outputs": [
        {
          "output_type": "execute_result",
          "data": {
            "text/plain": [
              "12"
            ]
          },
          "metadata": {},
          "execution_count": 21
        }
      ]
    },
    {
      "cell_type": "markdown",
      "source": [
        "6. Write code to extract all odd-indexed elements from the given numpy array?\n",
        "\n",
        "[[1, 2, 3, 4]\n",
        "\n",
        "[5, 6, 7, 8],\n",
        "\n",
        "[9, 10, 11, 12]]"
      ],
      "metadata": {
        "id": "kFZcLpJtQgM4"
      }
    },
    {
      "cell_type": "code",
      "source": [
        "arr = np.array([[1,2,3,4],[5,6,7,8],[9,10,11,12]])\n",
        "arr[1::2]"
      ],
      "metadata": {
        "colab": {
          "base_uri": "https://localhost:8080/"
        },
        "id": "9GTaQ3t2Qm7v",
        "outputId": "61e5bfd5-6e76-4632-a9f9-520c42e57cf8"
      },
      "execution_count": null,
      "outputs": [
        {
          "output_type": "execute_result",
          "data": {
            "text/plain": [
              "array([[5, 6, 7, 8]])"
            ]
          },
          "metadata": {},
          "execution_count": 23
        }
      ]
    },
    {
      "cell_type": "markdown",
      "source": [
        "7. How can you generate a random 3x3 matrix with values between 0 and 1?"
      ],
      "metadata": {
        "id": "P9IpU_KJSpNq"
      }
    },
    {
      "cell_type": "code",
      "source": [
        "import random\n",
        "arr = np.random.randint(0,2 ,(3,3))\n",
        "arr"
      ],
      "metadata": {
        "colab": {
          "base_uri": "https://localhost:8080/"
        },
        "id": "V1OISuT9SvaE",
        "outputId": "0e747f81-9a23-4479-b72c-bc35fb87bb3b"
      },
      "execution_count": null,
      "outputs": [
        {
          "output_type": "execute_result",
          "data": {
            "text/plain": [
              "array([[0, 1, 0],\n",
              "       [1, 1, 1],\n",
              "       [1, 1, 1]])"
            ]
          },
          "metadata": {},
          "execution_count": 26
        }
      ]
    },
    {
      "cell_type": "markdown",
      "source": [
        "8. Describe the difference between np.random.rand and np.random.randn?"
      ],
      "metadata": {
        "id": "jdBvhVtcTk5u"
      }
    },
    {
      "cell_type": "markdown",
      "source": [
        "The difference between np.random.rand and np.random.randn is that np.random.rand generates random numbers from a uniform distribution over the interval [0, 1), while np.random.randn generates random numbers from a normal distribution with a mean of 0 and a variance of 1. This means that the numbers produced by np.random.rand are equally likely to fall anywhere in the range [0, 1), while the numbers produced by np.random.randn are more likely to be close to 0 and less likely to be very large or very small."
      ],
      "metadata": {
        "id": "oeiwfNn5Vq2Z"
      }
    },
    {
      "cell_type": "markdown",
      "source": [
        "9. Write code to increase the dimension of the following array?\n",
        "\n",
        "[[1, 2, 3, 4]\n",
        "\n",
        "[5, 6, 7, 8],\n",
        "\n",
        "[9, 10, 11, 12]]"
      ],
      "metadata": {
        "id": "gwnTGiQKV1C0"
      }
    },
    {
      "cell_type": "code",
      "source": [
        "arr = np.array([[1,2,3,4],[5,6,7,8],[9,10,11,12]])\n",
        "print(\"original array :\\n\",arr)\n",
        "arr1 = np.expand_dims(arr, axis=0)\n",
        "print(\"After increasing dimension :\\n \",arr1)"
      ],
      "metadata": {
        "colab": {
          "base_uri": "https://localhost:8080/"
        },
        "id": "otZY2aeWVJj-",
        "outputId": "3ddd5bbc-0ea1-4590-8335-56eb8383ef4f"
      },
      "execution_count": null,
      "outputs": [
        {
          "output_type": "stream",
          "name": "stdout",
          "text": [
            "original array :\n",
            " [[ 1  2  3  4]\n",
            " [ 5  6  7  8]\n",
            " [ 9 10 11 12]]\n",
            "After increasing dimension :\n",
            "  [[[ 1  2  3  4]\n",
            "  [ 5  6  7  8]\n",
            "  [ 9 10 11 12]]]\n"
          ]
        }
      ]
    },
    {
      "cell_type": "markdown",
      "source": [
        "10. How to transpose the following array in NumPy?\n",
        "\n",
        "[[1, 2, 3, 4]\n",
        "\n",
        "[5, 6, 7, 8],\n",
        "\n",
        "[9, 10, 11, 12]]"
      ],
      "metadata": {
        "id": "f-4btzJWXtx8"
      }
    },
    {
      "cell_type": "code",
      "source": [
        "arr = np.array([[1,2,3,4],[5,6,7,8],[9,10,11,12]])\n",
        "arr.T"
      ],
      "metadata": {
        "colab": {
          "base_uri": "https://localhost:8080/"
        },
        "id": "hUfI5A78X5HV",
        "outputId": "ae6573d6-7503-4c54-8d8a-c53b480778ac"
      },
      "execution_count": null,
      "outputs": [
        {
          "output_type": "execute_result",
          "data": {
            "text/plain": [
              "array([[ 1,  5,  9],\n",
              "       [ 2,  6, 10],\n",
              "       [ 3,  7, 11],\n",
              "       [ 4,  8, 12]])"
            ]
          },
          "metadata": {},
          "execution_count": 35
        }
      ]
    },
    {
      "cell_type": "markdown",
      "source": [
        "11. Consider the following matrix:\n",
        "\n",
        "Matrix A: [[1, 2, 3, 4] [5, 6, 7, 8],[9, 10, 11, 12]]\n",
        "\n",
        "Matrix B: [[1, 2, 3, 4] [5, 6, 7, 8],[9, 10, 11, 12]]"
      ],
      "metadata": {
        "id": "ss5SH9oHYMXc"
      }
    },
    {
      "cell_type": "code",
      "source": [
        "arr1 = np.array([[1,2,3,4],[5,6,7,8],[9,10,11,12]])\n",
        "arr2 = np.array([[1,2,3,4],[5,6,7,8],[9,10,11,12]])\n",
        "\n",
        "# 1.Index wise multiplication\n",
        "arr1 * arr2"
      ],
      "metadata": {
        "id": "soo9HnIVYS5k"
      },
      "execution_count": null,
      "outputs": []
    },
    {
      "cell_type": "markdown",
      "source": [
        "which function in numpy can be used to swap the byte order of an array?"
      ],
      "metadata": {
        "id": "P57kuw-XVCHw"
      }
    },
    {
      "cell_type": "markdown",
      "source": [
        "There are two common byte orders: Little-endian: Least significant byte comes first in memory. Big-endian: Most significant byte comes first in memory. Usage: The byteswap () method takes an optional inplace argument: inplace=False (default): Returns a new array with swapped byte order, leaving the original array intact."
      ],
      "metadata": {
        "id": "octFV7i3Vl7n"
      }
    },
    {
      "cell_type": "markdown",
      "source": [
        " 13.  What is the significance of the np.linalg.inv function?\n"
      ],
      "metadata": {
        "id": "c1M4-nuiX-tt"
      }
    },
    {
      "cell_type": "markdown",
      "source": [
        "The numpy.linalg.inv () function is extremely helpful when doing rigorous calculations. Knowing the correct syntax and modifying the code to accommodate user input helps when there is no static input for a particular program. The numpy library contains many such other functions which make the life of a programmer easier.\n"
      ],
      "metadata": {
        "id": "osk6Z176YnjM"
      }
    },
    {
      "cell_type": "markdown",
      "source": [
        " 14. What does the np.reshape function do, and how is it used?\n"
      ],
      "metadata": {
        "id": "LyZRWDGNYqQz"
      }
    },
    {
      "cell_type": "markdown",
      "source": [
        "The numpy.reshape () function is useful when we need to change the dimensions of an array, for example, when we want to convert a one-dimensional array into a two-dimensional array or vice versa. It can also be used to create arrays with a specific shape, such as matrices and tensors."
      ],
      "metadata": {
        "id": "STtpKBc-Ytpz"
      }
    },
    {
      "cell_type": "markdown",
      "source": [
        " 15. What is broadcasting in Numpy?\n"
      ],
      "metadata": {
        "id": "F1h_GnwIYzOM"
      }
    },
    {
      "cell_type": "markdown",
      "source": [
        "The term broadcasting refers to the ability of NumPy to treat arrays with different dimensions during arithmetic operations. This process involves certain rules that allow the smaller array to be ‘broadcast’ across the larger one, ensuring that they have compatible shapes for these operations.\n",
        "\n",
        "Broadcasting is not limited to two arrays; it can be applied over multiple arrays as well."
      ],
      "metadata": {
        "id": "fnGwOPD7Y18C"
      }
    }
  ]
}